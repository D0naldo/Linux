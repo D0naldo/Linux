{
 "cells": [
  {
   "cell_type": "markdown",
   "metadata": {},
   "source": [
    "# Añadir una nueva llamada al sistema"
   ]
  },
  {
   "cell_type": "markdown",
   "metadata": {},
   "source": [
    "obtener el kernel de linux:"
   ]
  },
  {
   "cell_type": "code",
   "execution_count": null,
   "metadata": {},
   "outputs": [],
   "source": [
    "mkdir myproject2\n",
    "cd myproject2\n",
    "wget http://www.kernel.org/pub/linux/kernel/v3.0/linux-3.5.2.tar.bz2\n",
    "tar -xjvf linux-3.5.2.tar.bz2\n",
    "cd linux-3.5.2/"
   ]
  },
  {
   "cell_type": "markdown",
   "metadata": {},
   "source": [
    "### se añade el archivo con la nueva primitiva"
   ]
  },
  {
   "cell_type": "code",
   "execution_count": null,
   "metadata": {},
   "outputs": [],
   "source": [
    "cd kernel\n",
    "wd=`pwd`\n",
    "echo \"#include <linux/linkage.h>\n",
    "#include <linux/kernel.h>\n",
    "asmlinkage int sys_secuencia_syscall(int x) {\n",
    "    return (x/2.24);\n",
    "}\" >> ${wd}/secuencia_syscall.c"
   ]
  },
  {
   "cell_type": "markdown",
   "metadata": {},
   "source": [
    "Este comando hace genera automaticamente la llamada al sistema ```syscall.c```"
   ]
  },
  {
   "cell_type": "markdown",
   "metadata": {},
   "source": [
    "### Modificación del Makefile de linux"
   ]
  },
  {
   "cell_type": "code",
   "execution_count": null,
   "metadata": {},
   "outputs": [],
   "source": [
    "sed -i 's/async.o range.o groups.o lglock.o/async.o range.o groups.o lglock.o secuencia_syscall.o/g' \"Makefile\""
   ]
  },
  {
   "cell_type": "markdown",
   "metadata": {},
   "source": [
    "### Añadiendo nuestra nueva llamada a la tabla de llamadas al sistema"
   ]
  },
  {
   "cell_type": "code",
   "execution_count": null,
   "metadata": {},
   "outputs": [],
   "source": [
    "cd ..\n",
    "cd arch/x86/syscalls/\n",
    "ls"
   ]
  },
  {
   "cell_type": "markdown",
   "metadata": {},
   "source": [
    "* En esta carpeta vemos 2 archivos importantes ```syscall_32.tbl``` y ```syscall_64.tbl```. En estos archivos se definen los códigos de llamadas al sistema para cada arquitectura (32 y 64 bits respectivamente)\n",
    "\n",
    "\n",
    "editaremos ```syscall_64.tbl``` :"
   ]
  },
  {
   "cell_type": "code",
   "execution_count": null,
   "metadata": {},
   "outputs": [],
   "source": [
    "gedit syscall_64.tbl"
   ]
  },
  {
   "cell_type": "markdown",
   "metadata": {},
   "source": [
    "debemos añadir la lı́nea correspondiente a nuestra llamada a sistema, junto con su\n",
    "numero, nombre de la llamada y la función del kernel que la implementa:\n",
    "\n",
    "```\n",
    "310\t64\tprocess_vm_readv\tsys_process_vm_readv\n",
    "311\t64\tprocess_vm_writev\tsys_process_vm_writev\n",
    "312\tcommon\tkcmp\t\t\tsys_kcmp```"
   ]
  },
  {
   "cell_type": "markdown",
   "metadata": {},
   "source": [
    "linea a añadir: ```313\tcommon\tsecuencia_syscall\t    sys_secuencia_syscall```"
   ]
  },
  {
   "cell_type": "markdown",
   "metadata": {},
   "source": [
    "## Compilar la imagen de linux"
   ]
  },
  {
   "cell_type": "code",
   "execution_count": null,
   "metadata": {},
   "outputs": [],
   "source": [
    "cd ../../..\n",
    "su\n",
    "make oldconfig"
   ]
  },
  {
   "cell_type": "markdown",
   "metadata": {},
   "source": [
    "```make oldconfig``` con esto, copiamos las configuraciones de compilación del Kernel que estamos ejecutando,\n",
    "para que se compilen en el Kernel modificado, y finalmente ```make``` para compilar el kernel"
   ]
  },
  {
   "cell_type": "code",
   "execution_count": null,
   "metadata": {},
   "outputs": [],
   "source": [
    "make\n",
    "make modules\n",
    "make modules_install \n",
    "make install"
   ]
  },
  {
   "cell_type": "markdown",
   "metadata": {},
   "source": [
    "### Instalando la imagen de linux y configurando el grub"
   ]
  },
  {
   "cell_type": "markdown",
   "metadata": {},
   "source": [
    "Una vez terminado, la consola dirá en donde dejó la imagen:\n",
    "\n",
    "```\n",
    "Setup is 16848 bytes (padded to 16896 bytes).\n",
    "System is 4649 kB\n",
    "CRC 76a8a8f3\n",
    "Kernel: arch/x86/boot/bzImage is ready (#5)\n",
    "linux-3.5.2 $ ```"
   ]
  },
  {
   "cell_type": "markdown",
   "metadata": {},
   "source": [
    "para instalarla, debemos copiar bzImage desde donde está, hasta ```/boot:```"
   ]
  },
  {
   "cell_type": "code",
   "execution_count": null,
   "metadata": {},
   "outputs": [],
   "source": [
    "cp arch/x86/boot/bzImage /boot"
   ]
  },
  {
   "cell_type": "code",
   "execution_count": null,
   "metadata": {},
   "outputs": [],
   "source": []
  }
 ],
 "metadata": {
  "kernelspec": {
   "display_name": "Bash",
   "language": "bash",
   "name": "bash"
  },
  "language_info": {
   "codemirror_mode": "shell",
   "file_extension": ".sh",
   "mimetype": "text/x-sh",
   "name": "bash"
  }
 },
 "nbformat": 4,
 "nbformat_minor": 2
}
